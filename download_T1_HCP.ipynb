{
 "cells": [
  {
   "cell_type": "code",
   "execution_count": 1,
   "metadata": {
    "collapsed": true
   },
   "outputs": [],
   "source": [
    "project_label = 'HCP'"
   ]
  },
  {
   "cell_type": "code",
   "execution_count": 2,
   "metadata": {
    "collapsed": true
   },
   "outputs": [],
   "source": [
    "import flywheel\n",
    "\n",
    "api_key = 'flywheel.scitran.stanford.edu:FG8E19uWj9hwMj6yDqgarawsBzPM2Vg6fcF0O_aXg2uyc2_Sezxux3YF'\n",
    "\n",
    "fw = flywheel.Flywheel(api_key)\n",
    "projects = fw.get_all_projects()\n",
    "for p in projects:\n",
    "    if p['label'] == project_label:\n",
    "        break\n",
    "else:\n",
    "    p = None\n",
    "sessions = fw.get_project_sessions(p['_id'])"
   ]
  },
  {
   "cell_type": "code",
   "execution_count": 3,
   "metadata": {
    "collapsed": true
   },
   "outputs": [],
   "source": [
    "files = {}\n",
    "for s in sessions:\n",
    "    acqs = fw.get_session_acquisitions(s['_id'])\n",
    "    for a in acqs:\n",
    "        if a['label'] == 'T1w':\n",
    "            for f in a['files']:\n",
    "                if f['name'] == 'T1w_acpc_dc_restore.nii.gz':\n",
    "                    files[a['_id']] = f['name']\n"
   ]
  },
  {
   "cell_type": "code",
   "execution_count": 4,
   "metadata": {},
   "outputs": [
    {
     "data": {
      "text/plain": [
       "{u'578293947629ad8dada45681': u'T1w_acpc_dc_restore.nii.gz',\n",
       " u'578293c27629ad8dada45685': u'T1w_acpc_dc_restore.nii.gz',\n",
       " u'578293f77629ad8dada4568a': u'T1w_acpc_dc_restore.nii.gz',\n",
       " u'578293fe7629ad8dada4568c': u'T1w_acpc_dc_restore.nii.gz',\n",
       " u'5782942e7629ad8dada45690': u'T1w_acpc_dc_restore.nii.gz',\n",
       " u'5782947b7629ad8dada45695': u'T1w_acpc_dc_restore.nii.gz',\n",
       " u'578294987629ad8dada4569a': u'T1w_acpc_dc_restore.nii.gz',\n",
       " u'5782949f7629ad8dada4569c': u'T1w_acpc_dc_restore.nii.gz',\n",
       " u'578294ca7629ad8dada456a0': u'T1w_acpc_dc_restore.nii.gz',\n",
       " u'5782950d7629ad8dada456a5': u'T1w_acpc_dc_restore.nii.gz',\n",
       " u'5782953c7629ad8dada456aa': u'T1w_acpc_dc_restore.nii.gz',\n",
       " u'578295697629ad8dada456ae': u'T1w_acpc_dc_restore.nii.gz',\n",
       " u'578295987629ad8dada456b2': u'T1w_acpc_dc_restore.nii.gz',\n",
       " u'578295be7629ad8dada456b5': u'T1w_acpc_dc_restore.nii.gz',\n",
       " u'578295ca7629ad8dada456b8': u'T1w_acpc_dc_restore.nii.gz',\n",
       " u'578295f87629ad8dada456bc': u'T1w_acpc_dc_restore.nii.gz',\n",
       " u'5782961f7629ad8dada456c0': u'T1w_acpc_dc_restore.nii.gz',\n",
       " u'578296727629ad8dada456c6': u'T1w_acpc_dc_restore.nii.gz',\n",
       " u'5782969a7629ad8dada456ca': u'T1w_acpc_dc_restore.nii.gz',\n",
       " u'578296c87629ad8dada456ce': u'T1w_acpc_dc_restore.nii.gz',\n",
       " u'578296d27629ad8dada456d0': u'T1w_acpc_dc_restore.nii.gz',\n",
       " u'578297207629ad8dada456d6': u'T1w_acpc_dc_restore.nii.gz',\n",
       " u'578297287629ad8dada456d8': u'T1w_acpc_dc_restore.nii.gz',\n",
       " u'578297537629ad8dada456dc': u'T1w_acpc_dc_restore.nii.gz',\n",
       " u'5782978f7629ad8dada456e2': u'T1w_acpc_dc_restore.nii.gz',\n",
       " u'5782979c7629ad8dada456e5': u'T1w_acpc_dc_restore.nii.gz',\n",
       " u'578297f07629ad8dada456ea': u'T1w_acpc_dc_restore.nii.gz',\n",
       " u'578297fc7629ad8dada456ed': u'T1w_acpc_dc_restore.nii.gz',\n",
       " u'578298057629ad8dada456ef': u'T1w_acpc_dc_restore.nii.gz'}"
      ]
     },
     "execution_count": 4,
     "metadata": {},
     "output_type": "execute_result"
    }
   ],
   "source": [
    "files"
   ]
  },
  {
   "cell_type": "code",
   "execution_count": 5,
   "metadata": {
    "collapsed": true
   },
   "outputs": [],
   "source": [
    "import os\n",
    "folder = project_label\n",
    "if not os.path.exists(folder):\n",
    "    os.mkdir(folder)"
   ]
  },
  {
   "cell_type": "code",
   "execution_count": 6,
   "metadata": {
    "collapsed": true
   },
   "outputs": [],
   "source": [
    "for acqId, filename in files.iteritems():\n",
    "    os.mkdir(os.path.join(folder, acqId))\n",
    "    fw.download_file_from_acquisition(acqId, filename, os.path.join(folder, acqId, filename))"
   ]
  },
  {
   "cell_type": "code",
   "execution_count": null,
   "metadata": {
    "collapsed": true
   },
   "outputs": [],
   "source": []
  }
 ],
 "metadata": {
  "kernelspec": {
   "display_name": "Python 2",
   "language": "python",
   "name": "python2"
  },
  "language_info": {
   "codemirror_mode": {
    "name": "ipython",
    "version": 2
   },
   "file_extension": ".py",
   "mimetype": "text/x-python",
   "name": "python",
   "nbconvert_exporter": "python",
   "pygments_lexer": "ipython2",
   "version": "2.7.6"
  }
 },
 "nbformat": 4,
 "nbformat_minor": 2
}
