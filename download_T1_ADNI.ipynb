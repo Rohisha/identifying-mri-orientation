{
 "cells": [
  {
   "cell_type": "code",
   "execution_count": 1,
   "metadata": {
    "collapsed": true
   },
   "outputs": [],
   "source": [
    "project_label = 'ADNI: T1'"
   ]
  },
  {
   "cell_type": "code",
   "execution_count": 2,
   "metadata": {
    "collapsed": true
   },
   "outputs": [],
   "source": [
    "import flywheel\n",
    "\n",
    "api_key = 'user_api_key' # replace with your API key\n",
    "\n",
    "fw = flywheel.Flywheel(api_key)\n",
    "projects = fw.get_all_projects()\n",
    "for p in projects:\n",
    "    if p['label'] == project_label:\n",
    "        break\n",
    "else:\n",
    "    p = None\n",
    "sessions = fw.get_project_sessions(p['_id'])"
   ]
  },
  {
   "cell_type": "code",
   "execution_count": 3,
   "metadata": {
    "collapsed": true
   },
   "outputs": [],
   "source": [
    "files = {}\n",
    "for s in sessions:\n",
    "    acqs = fw.get_session_acquisitions(s['_id'])\n",
    "    for a in acqs:\n",
    "        if a['label'] == 'T1_MR_MPRAGE':\n",
    "            for f in a['files']:\n",
    "                if 'anatomy_t1w' in f['measurements']:\n",
    "                    files[a['_id']] = f['name']\n"
   ]
  },
  {
   "cell_type": "code",
   "execution_count": 4,
   "metadata": {
    "collapsed": false
   },
   "outputs": [
    {
     "data": {
      "text/plain": [
       "u'ADNI_109_S_1192_MR_MPRAGE_br_raw_20070116134734254_1_S25055_I36230.nii.gz'"
      ]
     },
     "execution_count": 4,
     "metadata": {},
     "output_type": "execute_result"
    }
   ],
   "source": [
    "files[files.keys()[0]]"
   ]
  },
  {
   "cell_type": "code",
   "execution_count": 5,
   "metadata": {
    "collapsed": false
   },
   "outputs": [
    {
     "data": {
      "text/plain": [
       "u'56fa0dee39a00d9010e51528'"
      ]
     },
     "execution_count": 5,
     "metadata": {},
     "output_type": "execute_result"
    }
   ],
   "source": [
    "files.keys()[0]"
   ]
  },
  {
   "cell_type": "code",
   "execution_count": 6,
   "metadata": {
    "collapsed": true
   },
   "outputs": [],
   "source": [
    "import os\n",
    "folder = project_label\n",
    "if not os.path.exists(folder):\n",
    "    os.mkdir(folder)"
   ]
  },
  {
   "cell_type": "code",
   "execution_count": 7,
   "metadata": {
    "collapsed": true
   },
   "outputs": [],
   "source": [
    "for acqId, filename in files.iteritems():\n",
    "    os.mkdir(os.path.join(folder, acqId))\n",
    "    fw.download_file_from_acquisition(acqId, filename, os.path.join(folder, acqId, filename))"
   ]
  }
 ],
 "metadata": {
  "kernelspec": {
   "display_name": "Python 3",
   "language": "python",
   "name": "python3"
  },
  "language_info": {
   "codemirror_mode": {
    "name": "ipython",
    "version": 3
   },
   "file_extension": ".py",
   "mimetype": "text/x-python",
   "name": "python",
   "nbconvert_exporter": "python",
   "pygments_lexer": "ipython3",
   "version": "3.6.0"
  }
 },
 "nbformat": 4,
 "nbformat_minor": 2
}
